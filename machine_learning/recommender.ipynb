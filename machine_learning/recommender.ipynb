{
 "cells": [
  {
   "cell_type": "code",
   "execution_count": 2,
   "metadata": {},
   "outputs": [],
   "source": [
    "import pandas as pd\n",
    "from sklearn.neighbors import NearestNeighbors\n"
   ]
  },
  {
   "cell_type": "code",
   "execution_count": 3,
   "metadata": {},
   "outputs": [],
   "source": [
    "\n",
    "# Sample data\n",
    "data = {\n",
    "    'product_id': [1, 2, 3, 4, 5],\n",
    "    'affordability': [5, 3, 4, 2, 1],\n",
    "    'durability': [3, 4, 2, 5, 1],\n",
    "    'popularity': [4, 5, 3, 2, 1]\n",
    "}\n",
    "\n",
    "df = pd.DataFrame(data)\n"
   ]
  },
  {
   "cell_type": "code",
   "execution_count": 5,
   "metadata": {},
   "outputs": [
    {
     "name": "stdout",
     "output_type": "stream",
     "text": [
      "   affordability  durability  popularity\n",
      "0              5           3           4\n",
      "1              3           4           5\n",
      "2              4           2           3\n",
      "3              2           5           2\n",
      "4              1           1           1\n"
     ]
    }
   ],
   "source": [
    "\n",
    "# Features\n",
    "X = df[['affordability', 'durability', 'popularity']]\n",
    "print(X)"
   ]
  },
  {
   "cell_type": "code",
   "execution_count": 7,
   "metadata": {},
   "outputs": [
    {
     "name": "stdout",
     "output_type": "stream",
     "text": [
      "NearestNeighbors(n_neighbors=3)\n"
     ]
    }
   ],
   "source": [
    "\n",
    "# Initialize the model\n",
    "knn = NearestNeighbors(n_neighbors=3, algorithm='auto').fit(X)\n",
    "print(knn)"
   ]
  },
  {
   "cell_type": "code",
   "execution_count": 8,
   "metadata": {},
   "outputs": [
    {
     "name": "stdout",
     "output_type": "stream",
     "text": [
      "   affordability  durability  popularity\n",
      "0              5           3           4\n"
     ]
    }
   ],
   "source": [
    "\n",
    "# User selects a product (e.g., product_id = 1)\n",
    "selected_product_index = df[df['product_id'] == 1].index[0]\n",
    "\n",
    "# Convert the selected product to a DataFrame to include feature names\n",
    "selected_product_features = pd.DataFrame([X.iloc[selected_product_index]], columns=X.columns)\n",
    "print(selected_product_features)"
   ]
  },
  {
   "cell_type": "code",
   "execution_count": 9,
   "metadata": {},
   "outputs": [
    {
     "name": "stdout",
     "output_type": "stream",
     "text": [
      "[[0.         1.73205081 2.44948974]]\n",
      "[[0 2 1]]\n"
     ]
    }
   ],
   "source": [
    "\n",
    "# Find the nearest neighbors\n",
    "distances, indices = knn.kneighbors(selected_product_features)\n",
    "print(distances)\n",
    "print(indices)"
   ]
  },
  {
   "cell_type": "code",
   "execution_count": 10,
   "metadata": {},
   "outputs": [
    {
     "name": "stdout",
     "output_type": "stream",
     "text": [
      "Selected Product:\n",
      "product_id       1\n",
      "affordability    5\n",
      "durability       3\n",
      "popularity       4\n",
      "Name: 0, dtype: int64\n",
      "\n",
      "Recommended Products:\n",
      "   product_id  affordability  durability  popularity\n",
      "0           1              5           3           4\n",
      "2           3              4           2           3\n",
      "1           2              3           4           5\n"
     ]
    }
   ],
   "source": [
    "\n",
    "# Get the recommended products\n",
    "recommended_product_indices = indices.flatten()\n",
    "recommended_products = df.iloc[recommended_product_indices]\n",
    "\n",
    "print(\"Selected Product:\")\n",
    "print(df.iloc[selected_product_index])\n",
    "print(\"\\nRecommended Products:\")\n",
    "print(recommended_products)\n"
   ]
  }
 ],
 "metadata": {
  "kernelspec": {
   "display_name": ".venv",
   "language": "python",
   "name": "python3"
  },
  "language_info": {
   "codemirror_mode": {
    "name": "ipython",
    "version": 3
   },
   "file_extension": ".py",
   "mimetype": "text/x-python",
   "name": "python",
   "nbconvert_exporter": "python",
   "pygments_lexer": "ipython3",
   "version": "3.12.0"
  }
 },
 "nbformat": 4,
 "nbformat_minor": 2
}
