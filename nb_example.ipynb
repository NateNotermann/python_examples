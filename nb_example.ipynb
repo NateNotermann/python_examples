{
 "cells": [
  {
   "cell_type": "code",
   "execution_count": 1,
   "metadata": {},
   "outputs": [
    {
     "name": "stdout",
     "output_type": "stream",
     "text": [
      "Accuracy: 1.0\n",
      "Confusion Matrix:\n",
      "[[1 0]\n",
      " [0 1]]\n",
      "Classification Report:\n",
      "              precision    recall  f1-score   support\n",
      "\n",
      "           0       1.00      1.00      1.00         1\n",
      "           1       1.00      1.00      1.00         1\n",
      "\n",
      "    accuracy                           1.00         2\n",
      "   macro avg       1.00      1.00      1.00         2\n",
      "weighted avg       1.00      1.00      1.00         2\n",
      "\n"
     ]
    }
   ],
   "source": [
    "import pandas as pd\n",
    "from sklearn.feature_extraction.text import CountVectorizer\n",
    "from sklearn.naive_bayes import MultinomialNB\n",
    "from sklearn.model_selection import train_test_split\n",
    "from sklearn.metrics import accuracy_score, confusion_matrix, classification_report\n",
    "\n",
    "# Sample data\n",
    "data = {\n",
    "    'text': [\n",
    "        'I love this movie, it is fantastic!',\n",
    "        'This movie was terrible and boring.',\n",
    "        'Absolutely wonderful experience, I enjoyed it.',\n",
    "        'Not my cup of tea, I hated this film.',\n",
    "        'Best movie ever, highly recommend it!',\n",
    "        'Worst movie I have ever seen, do not watch.',\n",
    "        'I had a great time watching this movie.',\n",
    "        'The plot was dull and the acting was poor.',\n",
    "        'An amazing film with a great storyline.',\n",
    "        'I will never watch this movie again, very disappointing.'\n",
    "    ],\n",
    "    'label': [1, 0, 1, 0, 1, 0, 1, 0, 1, 0]  # 1 = positive, 0 = negative\n",
    "}\n",
    "\n",
    "# Create a DataFrame\n",
    "df = pd.DataFrame(data)\n",
    "\n",
    "# Split the data into training and testing sets\n",
    "X_train, X_test, y_train, y_test = train_test_split(df['text'], df['label'], \n",
    "                                                    test_size=0.2, random_state=42)\n",
    "\n",
    "# Vectorize the text data\n",
    "vectorizer = CountVectorizer()\n",
    "X_train_vec = vectorizer.fit_transform(X_train)\n",
    "X_test_vec = vectorizer.transform(X_test)\n",
    "\n",
    "# Train a Multinomial Naive Bayes classifier\n",
    "mnb = MultinomialNB()\n",
    "mnb.fit(X_train_vec, y_train)\n",
    "\n",
    "# Predict on the test set\n",
    "y_pred = mnb.predict(X_test_vec)\n",
    "\n",
    "# Evaluate the model\n",
    "accuracy = accuracy_score(y_test, y_pred)\n",
    "conf_matrix = confusion_matrix(y_test, y_pred)\n",
    "class_report = classification_report(y_test, y_pred)\n",
    "\n",
    "print(f\"Accuracy: {accuracy}\")\n",
    "print(\"Confusion Matrix:\")\n",
    "print(conf_matrix)\n",
    "print(\"Classification Report:\")\n",
    "print(class_report)\n"
   ]
  },
  {
   "cell_type": "code",
   "execution_count": 2,
   "metadata": {},
   "outputs": [
    {
     "data": {
      "text/plain": [
       "text     object\n",
       "label     int64\n",
       "dtype: object"
      ]
     },
     "execution_count": 2,
     "metadata": {},
     "output_type": "execute_result"
    }
   ],
   "source": [
    "df.dtypes"
   ]
  },
  {
   "cell_type": "code",
   "execution_count": 3,
   "metadata": {},
   "outputs": [
    {
     "name": "stdout",
     "output_type": "stream",
     "text": [
      "  (0, 41)\t1\n",
      "  (0, 22)\t1\n",
      "  (0, 17)\t1\n",
      "  (0, 10)\t1\n",
      "  (0, 30)\t1\n",
      "  (0, 7)\t1\n",
      "  (0, 25)\t1\n",
      "  (0, 37)\t1\n",
      "  (1, 22)\t1\n",
      "  (1, 21)\t1\n",
      "  (1, 33)\t1\n",
      "  (1, 20)\t1\n",
      "  (1, 19)\t1\n",
      "  (1, 12)\t1\n",
      "  (2, 32)\t2\n",
      "  (2, 27)\t1\n",
      "  (2, 36)\t2\n",
      "  (2, 8)\t1\n",
      "  (2, 3)\t1\n",
      "  (2, 1)\t1\n",
      "  (2, 28)\t1\n",
      "  (3, 20)\t1\n",
      "  (3, 0)\t1\n",
      "  (3, 40)\t1\n",
      "  (3, 11)\t1\n",
      "  :\t:\n",
      "  (4, 39)\t1\n",
      "  (4, 24)\t1\n",
      "  (4, 2)\t1\n",
      "  (4, 35)\t1\n",
      "  (4, 6)\t1\n",
      "  (5, 22)\t1\n",
      "  (5, 10)\t1\n",
      "  (5, 20)\t1\n",
      "  (5, 4)\t1\n",
      "  (5, 18)\t1\n",
      "  (5, 29)\t1\n",
      "  (6, 25)\t1\n",
      "  (6, 33)\t1\n",
      "  (6, 23)\t1\n",
      "  (6, 5)\t1\n",
      "  (6, 26)\t1\n",
      "  (6, 31)\t1\n",
      "  (6, 16)\t1\n",
      "  (6, 13)\t1\n",
      "  (7, 22)\t1\n",
      "  (7, 33)\t1\n",
      "  (7, 15)\t1\n",
      "  (7, 14)\t1\n",
      "  (7, 34)\t1\n",
      "  (7, 38)\t1\n"
     ]
    }
   ],
   "source": [
    "print(X_train_vec)"
   ]
  },
  {
   "cell_type": "code",
   "execution_count": null,
   "metadata": {},
   "outputs": [],
   "source": []
  }
 ],
 "metadata": {
  "kernelspec": {
   "display_name": "Python 3",
   "language": "python",
   "name": "python3"
  },
  "language_info": {
   "codemirror_mode": {
    "name": "ipython",
    "version": 3
   },
   "file_extension": ".py",
   "mimetype": "text/x-python",
   "name": "python",
   "nbconvert_exporter": "python",
   "pygments_lexer": "ipython3",
   "version": "3.12.3"
  }
 },
 "nbformat": 4,
 "nbformat_minor": 2
}
